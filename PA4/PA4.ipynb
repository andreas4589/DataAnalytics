{
 "cells": [
  {
   "cell_type": "code",
   "execution_count": 1,
   "id": "85c3ea07",
   "metadata": {},
   "outputs": [],
   "source": [
    "import numpy as np\n",
    "import matplotlib.pyplot as plt\n",
    "import pandas as pd\n",
    "\n"
   ]
  },
  {
   "cell_type": "code",
   "execution_count": 9,
   "id": "39172e74",
   "metadata": {},
   "outputs": [],
   "source": [
    "original = pd.read_csv('airlinedelaycauses_DelayedFlights.csv')"
   ]
  },
  {
   "cell_type": "code",
   "execution_count": 10,
   "id": "bf4f1184",
   "metadata": {},
   "outputs": [
    {
     "data": {
      "text/html": [
       "<div>\n",
       "<style scoped>\n",
       "    .dataframe tbody tr th:only-of-type {\n",
       "        vertical-align: middle;\n",
       "    }\n",
       "\n",
       "    .dataframe tbody tr th {\n",
       "        vertical-align: top;\n",
       "    }\n",
       "\n",
       "    .dataframe thead th {\n",
       "        text-align: right;\n",
       "    }\n",
       "</style>\n",
       "<table border=\"1\" class=\"dataframe\">\n",
       "  <thead>\n",
       "    <tr style=\"text-align: right;\">\n",
       "      <th></th>\n",
       "      <th>Unnamed: 0</th>\n",
       "      <th>Year</th>\n",
       "      <th>Month</th>\n",
       "      <th>DayofMonth</th>\n",
       "      <th>DayOfWeek</th>\n",
       "      <th>DepTime</th>\n",
       "      <th>CRSDepTime</th>\n",
       "      <th>ArrTime</th>\n",
       "      <th>CRSArrTime</th>\n",
       "      <th>UniqueCarrier</th>\n",
       "      <th>...</th>\n",
       "      <th>TaxiIn</th>\n",
       "      <th>TaxiOut</th>\n",
       "      <th>Cancelled</th>\n",
       "      <th>CancellationCode</th>\n",
       "      <th>Diverted</th>\n",
       "      <th>CarrierDelay</th>\n",
       "      <th>WeatherDelay</th>\n",
       "      <th>NASDelay</th>\n",
       "      <th>SecurityDelay</th>\n",
       "      <th>LateAircraftDelay</th>\n",
       "    </tr>\n",
       "  </thead>\n",
       "  <tbody>\n",
       "    <tr>\n",
       "      <th>0</th>\n",
       "      <td>0</td>\n",
       "      <td>2008</td>\n",
       "      <td>1</td>\n",
       "      <td>3</td>\n",
       "      <td>4</td>\n",
       "      <td>2003.0</td>\n",
       "      <td>1955</td>\n",
       "      <td>2211.0</td>\n",
       "      <td>2225</td>\n",
       "      <td>WN</td>\n",
       "      <td>...</td>\n",
       "      <td>4.0</td>\n",
       "      <td>8.0</td>\n",
       "      <td>0</td>\n",
       "      <td>N</td>\n",
       "      <td>0</td>\n",
       "      <td>NaN</td>\n",
       "      <td>NaN</td>\n",
       "      <td>NaN</td>\n",
       "      <td>NaN</td>\n",
       "      <td>NaN</td>\n",
       "    </tr>\n",
       "    <tr>\n",
       "      <th>1</th>\n",
       "      <td>1</td>\n",
       "      <td>2008</td>\n",
       "      <td>1</td>\n",
       "      <td>3</td>\n",
       "      <td>4</td>\n",
       "      <td>754.0</td>\n",
       "      <td>735</td>\n",
       "      <td>1002.0</td>\n",
       "      <td>1000</td>\n",
       "      <td>WN</td>\n",
       "      <td>...</td>\n",
       "      <td>5.0</td>\n",
       "      <td>10.0</td>\n",
       "      <td>0</td>\n",
       "      <td>N</td>\n",
       "      <td>0</td>\n",
       "      <td>NaN</td>\n",
       "      <td>NaN</td>\n",
       "      <td>NaN</td>\n",
       "      <td>NaN</td>\n",
       "      <td>NaN</td>\n",
       "    </tr>\n",
       "    <tr>\n",
       "      <th>2</th>\n",
       "      <td>2</td>\n",
       "      <td>2008</td>\n",
       "      <td>1</td>\n",
       "      <td>3</td>\n",
       "      <td>4</td>\n",
       "      <td>628.0</td>\n",
       "      <td>620</td>\n",
       "      <td>804.0</td>\n",
       "      <td>750</td>\n",
       "      <td>WN</td>\n",
       "      <td>...</td>\n",
       "      <td>3.0</td>\n",
       "      <td>17.0</td>\n",
       "      <td>0</td>\n",
       "      <td>N</td>\n",
       "      <td>0</td>\n",
       "      <td>NaN</td>\n",
       "      <td>NaN</td>\n",
       "      <td>NaN</td>\n",
       "      <td>NaN</td>\n",
       "      <td>NaN</td>\n",
       "    </tr>\n",
       "    <tr>\n",
       "      <th>3</th>\n",
       "      <td>4</td>\n",
       "      <td>2008</td>\n",
       "      <td>1</td>\n",
       "      <td>3</td>\n",
       "      <td>4</td>\n",
       "      <td>1829.0</td>\n",
       "      <td>1755</td>\n",
       "      <td>1959.0</td>\n",
       "      <td>1925</td>\n",
       "      <td>WN</td>\n",
       "      <td>...</td>\n",
       "      <td>3.0</td>\n",
       "      <td>10.0</td>\n",
       "      <td>0</td>\n",
       "      <td>N</td>\n",
       "      <td>0</td>\n",
       "      <td>2.0</td>\n",
       "      <td>0.0</td>\n",
       "      <td>0.0</td>\n",
       "      <td>0.0</td>\n",
       "      <td>32.0</td>\n",
       "    </tr>\n",
       "    <tr>\n",
       "      <th>4</th>\n",
       "      <td>5</td>\n",
       "      <td>2008</td>\n",
       "      <td>1</td>\n",
       "      <td>3</td>\n",
       "      <td>4</td>\n",
       "      <td>1940.0</td>\n",
       "      <td>1915</td>\n",
       "      <td>2121.0</td>\n",
       "      <td>2110</td>\n",
       "      <td>WN</td>\n",
       "      <td>...</td>\n",
       "      <td>4.0</td>\n",
       "      <td>10.0</td>\n",
       "      <td>0</td>\n",
       "      <td>N</td>\n",
       "      <td>0</td>\n",
       "      <td>NaN</td>\n",
       "      <td>NaN</td>\n",
       "      <td>NaN</td>\n",
       "      <td>NaN</td>\n",
       "      <td>NaN</td>\n",
       "    </tr>\n",
       "  </tbody>\n",
       "</table>\n",
       "<p>5 rows × 30 columns</p>\n",
       "</div>"
      ],
      "text/plain": [
       "   Unnamed: 0  Year  Month  DayofMonth  DayOfWeek  DepTime  CRSDepTime  \\\n",
       "0           0  2008      1           3          4   2003.0        1955   \n",
       "1           1  2008      1           3          4    754.0         735   \n",
       "2           2  2008      1           3          4    628.0         620   \n",
       "3           4  2008      1           3          4   1829.0        1755   \n",
       "4           5  2008      1           3          4   1940.0        1915   \n",
       "\n",
       "   ArrTime  CRSArrTime UniqueCarrier  ...  TaxiIn TaxiOut  Cancelled  \\\n",
       "0   2211.0        2225            WN  ...     4.0     8.0          0   \n",
       "1   1002.0        1000            WN  ...     5.0    10.0          0   \n",
       "2    804.0         750            WN  ...     3.0    17.0          0   \n",
       "3   1959.0        1925            WN  ...     3.0    10.0          0   \n",
       "4   2121.0        2110            WN  ...     4.0    10.0          0   \n",
       "\n",
       "   CancellationCode  Diverted  CarrierDelay  WeatherDelay NASDelay  \\\n",
       "0                 N         0           NaN           NaN      NaN   \n",
       "1                 N         0           NaN           NaN      NaN   \n",
       "2                 N         0           NaN           NaN      NaN   \n",
       "3                 N         0           2.0           0.0      0.0   \n",
       "4                 N         0           NaN           NaN      NaN   \n",
       "\n",
       "  SecurityDelay  LateAircraftDelay  \n",
       "0           NaN                NaN  \n",
       "1           NaN                NaN  \n",
       "2           NaN                NaN  \n",
       "3           0.0               32.0  \n",
       "4           NaN                NaN  \n",
       "\n",
       "[5 rows x 30 columns]"
      ]
     },
     "execution_count": 10,
     "metadata": {},
     "output_type": "execute_result"
    }
   ],
   "source": [
    "original.head()"
   ]
  },
  {
   "cell_type": "code",
   "execution_count": null,
   "id": "af941852",
   "metadata": {},
   "outputs": [],
   "source": [
    "data = original.copy()"
   ]
  },
  {
   "cell_type": "code",
   "execution_count": 12,
   "id": "a87da59b",
   "metadata": {},
   "outputs": [],
   "source": [
    "data = data.rename(columns={'Unnamed: 0': 'ID'})"
   ]
  },
  {
   "cell_type": "code",
   "execution_count": 19,
   "id": "f5662fc7",
   "metadata": {},
   "outputs": [
    {
     "data": {
      "text/plain": [
       "31"
      ]
     },
     "execution_count": 19,
     "metadata": {},
     "output_type": "execute_result"
    }
   ],
   "source": [
    "data['DayofMonth'].max()"
   ]
  },
  {
   "cell_type": "code",
   "execution_count": 22,
   "id": "db8aca1f",
   "metadata": {},
   "outputs": [],
   "source": [
    "# merge Year, Month, DayofMonth and  DayOfWeek into a single Date column\n",
    "data['Date'] = pd.to_datetime(dict(\n",
    "    year=data['Year'],\n",
    "    month=data['Month'],\n",
    "    day=data['DayofMonth']\n",
    "))\n"
   ]
  },
  {
   "cell_type": "code",
   "execution_count": 24,
   "id": "da0d072c",
   "metadata": {},
   "outputs": [],
   "source": [
    "data.drop(columns=['Year', 'Month', 'DayofMonth'], inplace=True)"
   ]
  },
  {
   "cell_type": "code",
   "execution_count": 28,
   "id": "63fa2a6d",
   "metadata": {},
   "outputs": [],
   "source": [
    "data.rename(columns={'CRSDepTime': 'ScheduledDepTime', 'DepTime' : 'ActualDepTime', 'CRSArrTime': 'ScheduledArrTime', 'ArrTime': 'ActualArrTime', 'CRSElapsedTime' : 'ScheduledElapsedTime'}, inplace=True)"
   ]
  },
  {
   "cell_type": "code",
   "execution_count": 45,
   "id": "8abf580e",
   "metadata": {},
   "outputs": [],
   "source": [
    "data['CancellationReason'] = data['CancellationCode'].map({\n",
    "    'N': 'Not Cancelled',\n",
    "    'A': 'Carrier',\n",
    "    'B': 'Weather',\n",
    "    'C': 'NAS'\n",
    "})\n",
    "data.drop(columns=['CancellationCode'], inplace=True)"
   ]
  },
  {
   "cell_type": "code",
   "execution_count": 50,
   "id": "ce40e608",
   "metadata": {},
   "outputs": [
    {
     "data": {
      "text/plain": [
       "Index(['ID', 'DayOfWeek', 'ActualDepTime', 'ScheduledDepTime', 'ActualArrTime',\n",
       "       'ScheduledArrTime', 'UniqueCarrier', 'FlightNum', 'TailNum',\n",
       "       'ActualElapsedTime', 'ScheduledElapsedTime', 'AirTime', 'ArrDelay',\n",
       "       'DepDelay', 'Origin', 'Dest', 'Distance', 'TaxiIn', 'TaxiOut',\n",
       "       'Cancelled', 'Diverted', 'CarrierDelay', 'WeatherDelay', 'NASDelay',\n",
       "       'SecurityDelay', 'LateAircraftDelay', 'Date', 'CancellationReason'],\n",
       "      dtype='object')"
      ]
     },
     "execution_count": 50,
     "metadata": {},
     "output_type": "execute_result"
    }
   ],
   "source": [
    "data.columns"
   ]
  },
  {
   "cell_type": "code",
   "execution_count": 55,
   "id": "dfdbc40c",
   "metadata": {},
   "outputs": [
    {
     "data": {
      "text/plain": [
       "0          0\n",
       "1          0\n",
       "2          0\n",
       "3          0\n",
       "4          0\n",
       "          ..\n",
       "1936753    0\n",
       "1936754    0\n",
       "1936755    0\n",
       "1936756    0\n",
       "1936757    0\n",
       "Name: Diverted, Length: 1936758, dtype: int64"
      ]
     },
     "execution_count": 55,
     "metadata": {},
     "output_type": "execute_result"
    }
   ],
   "source": [
    "data['Diverted']"
   ]
  },
  {
   "cell_type": "code",
   "execution_count": 61,
   "id": "32de9cca",
   "metadata": {},
   "outputs": [
    {
     "data": {
      "text/plain": [
       "0          1955\n",
       "1           735\n",
       "2           620\n",
       "3          1755\n",
       "4          1915\n",
       "           ... \n",
       "1936753    1220\n",
       "1936754     600\n",
       "1936755     847\n",
       "1936756    1240\n",
       "1936757    1103\n",
       "Name: ScheduledDepTime, Length: 1936758, dtype: int64"
      ]
     },
     "execution_count": 61,
     "metadata": {},
     "output_type": "execute_result"
    }
   ],
   "source": [
    "data['ScheduledDepTime']"
   ]
  },
  {
   "cell_type": "code",
   "execution_count": null,
   "id": "e91c326e",
   "metadata": {},
   "outputs": [],
   "source": [
    "for col in ['ActualDepTime', 'ScheduledDepTime', 'ActualArrTime', 'ScheduledArrTime']:\n",
    "    times = (\n",
    "        data[col]\n",
    "        .fillna(0)\n",
    "        .astype(int)\n",
    "        .astype(str)\n",
    "        .str.zfill(4)\n",
    "        .replace('2400', '0000')\n",
    "    )\n",
    "    data[col] = pd.to_datetime(times, format='%H%M', errors='coerce').dt.time\n"
   ]
  },
  {
   "cell_type": "code",
   "execution_count": 69,
   "id": "cab47cff",
   "metadata": {},
   "outputs": [],
   "source": [
    "data['Date'] = pd.to_datetime(data['Date'])"
   ]
  },
  {
   "cell_type": "code",
   "execution_count": 72,
   "id": "2188cd70",
   "metadata": {},
   "outputs": [],
   "source": [
    "categorical_cols = ['UniqueCarrier', 'Origin', 'Dest', 'CancellationReason', 'DayOfWeek']\n",
    "data[categorical_cols] = data[categorical_cols].astype('category')"
   ]
  },
  {
   "cell_type": "code",
   "execution_count": 76,
   "id": "07af2a1c",
   "metadata": {},
   "outputs": [],
   "source": [
    "data['Cancelled'] = data['Cancelled'].astype(bool)\n",
    "data['Diverted'] = data['Diverted'].astype(bool)"
   ]
  },
  {
   "cell_type": "code",
   "execution_count": null,
   "id": "6f98cfbc",
   "metadata": {},
   "outputs": [],
   "source": [
    "delay_cols = ['CarrierDelay', 'WeatherDelay', 'NASDelay', 'SecurityDelay', 'LateAircraftDelay']\n",
    "data[delay_cols] = data[delay_cols].fillna(0)"
   ]
  },
  {
   "cell_type": "code",
   "execution_count": 109,
   "id": "2766861b",
   "metadata": {},
   "outputs": [
    {
     "data": {
      "text/plain": [
       "ID                         0\n",
       "DayOfWeek                  0\n",
       "ActualDepTime              0\n",
       "ScheduledDepTime           0\n",
       "ActualArrTime              0\n",
       "ScheduledArrTime           0\n",
       "UniqueCarrier              0\n",
       "FlightNum                  0\n",
       "TailNum                    5\n",
       "ActualElapsedTime       8387\n",
       "ScheduledElapsedTime     198\n",
       "AirTime                 8387\n",
       "ArrDelay                8387\n",
       "DepDelay                   0\n",
       "Origin                     0\n",
       "Dest                       0\n",
       "Distance                   0\n",
       "TaxiIn                  7110\n",
       "TaxiOut                  455\n",
       "Cancelled                  0\n",
       "Diverted                   0\n",
       "CarrierDelay               0\n",
       "WeatherDelay               0\n",
       "NASDelay                   0\n",
       "SecurityDelay              0\n",
       "LateAircraftDelay          0\n",
       "Date                       0\n",
       "CancellationReason         0\n",
       "dtype: int64"
      ]
     },
     "execution_count": 109,
     "metadata": {},
     "output_type": "execute_result"
    }
   ],
   "source": [
    "data.isnull().sum()"
   ]
  },
  {
   "cell_type": "code",
   "execution_count": 77,
   "id": "28f260f9",
   "metadata": {},
   "outputs": [
    {
     "name": "stdout",
     "output_type": "stream",
     "text": [
      "<class 'pandas.core.frame.DataFrame'>\n",
      "RangeIndex: 1936758 entries, 0 to 1936757\n",
      "Data columns (total 28 columns):\n",
      " #   Column                Dtype         \n",
      "---  ------                -----         \n",
      " 0   ID                    int64         \n",
      " 1   DayOfWeek             category      \n",
      " 2   ActualDepTime         object        \n",
      " 3   ScheduledDepTime      object        \n",
      " 4   ActualArrTime         object        \n",
      " 5   ScheduledArrTime      object        \n",
      " 6   UniqueCarrier         category      \n",
      " 7   FlightNum             int64         \n",
      " 8   TailNum               object        \n",
      " 9   ActualElapsedTime     float64       \n",
      " 10  ScheduledElapsedTime  float64       \n",
      " 11  AirTime               float64       \n",
      " 12  ArrDelay              float64       \n",
      " 13  DepDelay              float64       \n",
      " 14  Origin                category      \n",
      " 15  Dest                  category      \n",
      " 16  Distance              int64         \n",
      " 17  TaxiIn                float64       \n",
      " 18  TaxiOut               float64       \n",
      " 19  Cancelled             bool          \n",
      " 20  Diverted              bool          \n",
      " 21  CarrierDelay          float64       \n",
      " 22  WeatherDelay          float64       \n",
      " 23  NASDelay              float64       \n",
      " 24  SecurityDelay         float64       \n",
      " 25  LateAircraftDelay     float64       \n",
      " 26  Date                  datetime64[ns]\n",
      " 27  CancellationReason    category      \n",
      "dtypes: bool(2), category(5), datetime64[ns](1), float64(12), int64(3), object(5)\n",
      "memory usage: 326.9+ MB\n"
     ]
    }
   ],
   "source": [
    "data.info()"
   ]
  },
  {
   "cell_type": "code",
   "execution_count": 112,
   "id": "d7e47e2c",
   "metadata": {},
   "outputs": [],
   "source": [
    "data.to_csv('airlinedelaycauses_DelayedFlights_Cleaned.csv', index=False)"
   ]
  },
  {
   "cell_type": "code",
   "execution_count": 113,
   "id": "bc756f6e",
   "metadata": {},
   "outputs": [],
   "source": [
    "data_cleaned = pd.read_csv('airlinedelaycauses_DelayedFlights_Cleaned.csv')"
   ]
  },
  {
   "cell_type": "markdown",
   "id": "6ff9abde",
   "metadata": {},
   "source": [
    "# Visualizations"
   ]
  },
  {
   "cell_type": "code",
   "execution_count": 152,
   "id": "ffdd86bc",
   "metadata": {},
   "outputs": [
    {
     "data": {
      "text/html": [
       "\n",
       "        <iframe\n",
       "            width=\"100%\"\n",
       "            height=\"650\"\n",
       "            src=\"http://127.0.0.1:8050/\"\n",
       "            frameborder=\"0\"\n",
       "            allowfullscreen\n",
       "            \n",
       "        ></iframe>\n",
       "        "
      ],
      "text/plain": [
       "<IPython.lib.display.IFrame at 0x2878ff55fa0>"
      ]
     },
     "metadata": {},
     "output_type": "display_data"
    }
   ],
   "source": [
    "from dash import Dash, dcc, html\n",
    "from dash.dependencies import Input, Output\n",
    "import plotly.express as px\n",
    "import pandas as pd\n",
    "\n",
    "data = data_cleaned.copy()\n",
    "# Preprocess columns for visuals\n",
    "\n",
    "# Convert ScheduledDepTime to numeric, invalid parsing becomes NaN\n",
    "data['ScheduledDepTime'] = pd.to_numeric(data['ScheduledDepTime'], errors='coerce')\n",
    "\n",
    "# Now you can get the Hour\n",
    "data['Hour'] = (data['ScheduledDepTime'] // 100).fillna(0).astype(int)\n",
    "\n",
    "data['DayOfWeek'] = data['DayOfWeek'].astype(int)\n",
    "\n",
    "# Initialize Dash app\n",
    "app = Dash(__name__)\n",
    "\n",
    "# Layout\n",
    "app.layout = html.Div([\n",
    "    html.H1(\"Flight Delay Dashboard\", style={'textAlign': 'center'}),\n",
    "\n",
    "    html.Div([\n",
    "        html.Label(\"Select Delay Type:\"),\n",
    "        dcc.Dropdown(\n",
    "            id='delay-type-dropdown',\n",
    "            options=[\n",
    "                {'label': 'Arrival Delay', 'value': 'ArrDelay'},\n",
    "                {'label': 'Departure Delay', 'value': 'DepDelay'}\n",
    "            ],\n",
    "            value='ArrDelay'\n",
    "        ),\n",
    "        dcc.Graph(id='delay-over-time')\n",
    "    ]),\n",
    "\n",
    "    html.Div([dcc.Graph(id='airline-delay-bar')]),\n",
    "    html.Div([dcc.Graph(id='heatmap-delay')]),\n",
    "    html.Div([dcc.Graph(id='cancellation-pie')])\n",
    "])\n",
    "\n",
    "# Callbacks for interactivity\n",
    "@app.callback(\n",
    "    [Output('delay-over-time', 'figure'),\n",
    "     Output('airline-delay-bar', 'figure'),\n",
    "     Output('heatmap-delay', 'figure'),\n",
    "     Output('cancellation-pie', 'figure')],\n",
    "    [Input('delay-type-dropdown', 'value')]\n",
    ")\n",
    "def update_charts(selected_delay):\n",
    "    # 1. Delay over time\n",
    "    delay_time = data.groupby('Date')[selected_delay].mean().reset_index()\n",
    "    fig_line = px.line(delay_time, x='Date', y=selected_delay,\n",
    "                       title=f'Average {selected_delay} Over Time')\n",
    "\n",
    "    # 2. Airline delay comparison\n",
    "    airline_delay = data.groupby('UniqueCarrier')[selected_delay].mean().reset_index()\n",
    "    fig_bar = px.bar(airline_delay, x='UniqueCarrier', y=selected_delay,\n",
    "                     title=f'Average {selected_delay} per Airline', text=selected_delay)\n",
    "\n",
    "    # 3. Heatmap: day of week vs hour\n",
    "    heatmap_data = data.groupby(['DayOfWeek', 'Hour'])[selected_delay].mean().reset_index()\n",
    "    fig_heatmap = px.density_heatmap(heatmap_data, x='Hour', y='DayOfWeek', z=selected_delay,\n",
    "                                     nbinsx=24, nbinsy=7,\n",
    "                                     title=f'Average {selected_delay} by Day of Week & Hour',\n",
    "                                     labels={'Hour':'Hour of Day', 'DayOfWeek':'Day of Week'})\n",
    "\n",
    "    # 4. Cancellation pie chart\n",
    "    cancel_data = data[data['Cancelled'] == 1]['CancellationReason'].value_counts().reset_index()\n",
    "    cancel_data.columns = ['Reason', 'Count']\n",
    "    fig_pie = px.pie(cancel_data, names='Reason', values='Count', title='Cancellation Reasons')\n",
    "\n",
    "    return fig_line, fig_bar, fig_heatmap, fig_pie\n",
    "\n",
    "# Run server\n",
    "if __name__ == '__main__':\n",
    "    app.run(debug=True)\n"
   ]
  }
 ],
 "metadata": {
  "kernelspec": {
   "display_name": "Python 3",
   "language": "python",
   "name": "python3"
  },
  "language_info": {
   "codemirror_mode": {
    "name": "ipython",
    "version": 3
   },
   "file_extension": ".py",
   "mimetype": "text/x-python",
   "name": "python",
   "nbconvert_exporter": "python",
   "pygments_lexer": "ipython3",
   "version": "3.8.20"
  }
 },
 "nbformat": 4,
 "nbformat_minor": 5
}
